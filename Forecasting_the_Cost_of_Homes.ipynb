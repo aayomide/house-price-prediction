{
  "cells": [
    {
      "cell_type": "markdown",
      "metadata": {
        "id": "view-in-github",
        "colab_type": "text"
      },
      "source": [
        "<a href=\"https://colab.research.google.com/github/aayomide/house-price-prediction/blob/main/Forecasting_the_Cost_of_Homes.ipynb\" target=\"_parent\"><img src=\"https://colab.research.google.com/assets/colab-badge.svg\" alt=\"Open In Colab\"/></a>"
      ]
    },
    {
      "cell_type": "markdown",
      "id": "9694ff93",
      "metadata": {
        "id": "9694ff93"
      },
      "source": [
        "## **Project:** House Price Prediction with Machine Learning\n",
        "\n",
        "### **Problem Statement**\n",
        "\n",
        "The goal of this data science project is to use the house price dataset to construct a regression machine-learning system for forecasting the cost of homes.\n",
        "\n",
        "### **Task**\n",
        "\n",
        "- To implement a machine learning model capable of predicting the best future house sale prices.\n",
        "- Build a REST API, preferably a FAST API, for the ML model or deploy the model on a cloud platform, e.g., Postman or Heroku.\n",
        "\n",
        "**Link to Dataset**: [house_data](https://docs.google.com/spreadsheets/d/1KM55GGkAuMJNaS6IHPfMapo02SvYWWQOrCw7Nky--vw/edit?usp=sharing)"
      ]
    },
    {
      "cell_type": "markdown",
      "id": "b8ae78c3",
      "metadata": {
        "id": "b8ae78c3"
      },
      "source": [
        "-------------------"
      ]
    },
    {
      "cell_type": "markdown",
      "id": "c0198878",
      "metadata": {
        "id": "c0198878"
      },
      "source": [
        "## Import Libraries"
      ]
    },
    {
      "cell_type": "code",
      "execution_count": null,
      "id": "8fb59411",
      "metadata": {
        "id": "8fb59411"
      },
      "outputs": [],
      "source": [
        "import pandas as pd\n",
        "import numpy as np\n",
        "import seaborn as sns\n",
        "import matplotlib.pyplot as plt\n",
        "%matplotlib inline\n",
        "\n",
        "import warnings\n",
        "warnings.filterwarnings('ignore' )\n",
        "\n",
        "pd.options.display.max_columns = 25"
      ]
    },
    {
      "cell_type": "code",
      "execution_count": null,
      "id": "0333f112",
      "metadata": {
        "id": "0333f112",
        "outputId": "f4f88937-5947-432b-ef6f-13ac1ea625b8"
      },
      "outputs": [
        {
          "name": "stdout",
          "output_type": "stream",
          "text": [
            "(21613, 21)\n"
          ]
        },
        {
          "data": {
            "text/html": [
              "<div>\n",
              "<style scoped>\n",
              "    .dataframe tbody tr th:only-of-type {\n",
              "        vertical-align: middle;\n",
              "    }\n",
              "\n",
              "    .dataframe tbody tr th {\n",
              "        vertical-align: top;\n",
              "    }\n",
              "\n",
              "    .dataframe thead th {\n",
              "        text-align: right;\n",
              "    }\n",
              "</style>\n",
              "<table border=\"1\" class=\"dataframe\">\n",
              "  <thead>\n",
              "    <tr style=\"text-align: right;\">\n",
              "      <th></th>\n",
              "      <th>id</th>\n",
              "      <th>date</th>\n",
              "      <th>price</th>\n",
              "      <th>bedrooms</th>\n",
              "      <th>bathrooms</th>\n",
              "      <th>sqft_living</th>\n",
              "      <th>sqft_lot</th>\n",
              "      <th>floors</th>\n",
              "      <th>waterfront</th>\n",
              "      <th>view</th>\n",
              "      <th>condition</th>\n",
              "      <th>grade</th>\n",
              "      <th>sqft_above</th>\n",
              "      <th>sqft_basement</th>\n",
              "      <th>yr_built</th>\n",
              "      <th>yr_renovated</th>\n",
              "      <th>zipcode</th>\n",
              "      <th>lat</th>\n",
              "      <th>long</th>\n",
              "      <th>sqft_living15</th>\n",
              "      <th>sqft_lot15</th>\n",
              "    </tr>\n",
              "  </thead>\n",
              "  <tbody>\n",
              "    <tr>\n",
              "      <th>0</th>\n",
              "      <td>7129300520</td>\n",
              "      <td>20141013T000000</td>\n",
              "      <td>221900.0</td>\n",
              "      <td>3</td>\n",
              "      <td>1.00</td>\n",
              "      <td>1180</td>\n",
              "      <td>5650</td>\n",
              "      <td>1.0</td>\n",
              "      <td>0</td>\n",
              "      <td>0</td>\n",
              "      <td>3</td>\n",
              "      <td>7</td>\n",
              "      <td>1180</td>\n",
              "      <td>0</td>\n",
              "      <td>1955</td>\n",
              "      <td>0</td>\n",
              "      <td>98178</td>\n",
              "      <td>47.5112</td>\n",
              "      <td>-122.257</td>\n",
              "      <td>1340</td>\n",
              "      <td>5650</td>\n",
              "    </tr>\n",
              "    <tr>\n",
              "      <th>1</th>\n",
              "      <td>6414100192</td>\n",
              "      <td>20141209T000000</td>\n",
              "      <td>538000.0</td>\n",
              "      <td>3</td>\n",
              "      <td>2.25</td>\n",
              "      <td>2570</td>\n",
              "      <td>7242</td>\n",
              "      <td>2.0</td>\n",
              "      <td>0</td>\n",
              "      <td>0</td>\n",
              "      <td>3</td>\n",
              "      <td>7</td>\n",
              "      <td>2170</td>\n",
              "      <td>400</td>\n",
              "      <td>1951</td>\n",
              "      <td>1991</td>\n",
              "      <td>98125</td>\n",
              "      <td>47.7210</td>\n",
              "      <td>-122.319</td>\n",
              "      <td>1690</td>\n",
              "      <td>7639</td>\n",
              "    </tr>\n",
              "    <tr>\n",
              "      <th>2</th>\n",
              "      <td>5631500400</td>\n",
              "      <td>20150225T000000</td>\n",
              "      <td>180000.0</td>\n",
              "      <td>2</td>\n",
              "      <td>1.00</td>\n",
              "      <td>770</td>\n",
              "      <td>10000</td>\n",
              "      <td>1.0</td>\n",
              "      <td>0</td>\n",
              "      <td>0</td>\n",
              "      <td>3</td>\n",
              "      <td>6</td>\n",
              "      <td>770</td>\n",
              "      <td>0</td>\n",
              "      <td>1933</td>\n",
              "      <td>0</td>\n",
              "      <td>98028</td>\n",
              "      <td>47.7379</td>\n",
              "      <td>-122.233</td>\n",
              "      <td>2720</td>\n",
              "      <td>8062</td>\n",
              "    </tr>\n",
              "    <tr>\n",
              "      <th>3</th>\n",
              "      <td>2487200875</td>\n",
              "      <td>20141209T000000</td>\n",
              "      <td>604000.0</td>\n",
              "      <td>4</td>\n",
              "      <td>3.00</td>\n",
              "      <td>1960</td>\n",
              "      <td>5000</td>\n",
              "      <td>1.0</td>\n",
              "      <td>0</td>\n",
              "      <td>0</td>\n",
              "      <td>5</td>\n",
              "      <td>7</td>\n",
              "      <td>1050</td>\n",
              "      <td>910</td>\n",
              "      <td>1965</td>\n",
              "      <td>0</td>\n",
              "      <td>98136</td>\n",
              "      <td>47.5208</td>\n",
              "      <td>-122.393</td>\n",
              "      <td>1360</td>\n",
              "      <td>5000</td>\n",
              "    </tr>\n",
              "    <tr>\n",
              "      <th>4</th>\n",
              "      <td>1954400510</td>\n",
              "      <td>20150218T000000</td>\n",
              "      <td>510000.0</td>\n",
              "      <td>3</td>\n",
              "      <td>2.00</td>\n",
              "      <td>1680</td>\n",
              "      <td>8080</td>\n",
              "      <td>1.0</td>\n",
              "      <td>0</td>\n",
              "      <td>0</td>\n",
              "      <td>3</td>\n",
              "      <td>8</td>\n",
              "      <td>1680</td>\n",
              "      <td>0</td>\n",
              "      <td>1987</td>\n",
              "      <td>0</td>\n",
              "      <td>98074</td>\n",
              "      <td>47.6168</td>\n",
              "      <td>-122.045</td>\n",
              "      <td>1800</td>\n",
              "      <td>7503</td>\n",
              "    </tr>\n",
              "  </tbody>\n",
              "</table>\n",
              "</div>"
            ],
            "text/plain": [
              "           id             date     price  bedrooms  bathrooms  sqft_living  \\\n",
              "0  7129300520  20141013T000000  221900.0         3       1.00         1180   \n",
              "1  6414100192  20141209T000000  538000.0         3       2.25         2570   \n",
              "2  5631500400  20150225T000000  180000.0         2       1.00          770   \n",
              "3  2487200875  20141209T000000  604000.0         4       3.00         1960   \n",
              "4  1954400510  20150218T000000  510000.0         3       2.00         1680   \n",
              "\n",
              "   sqft_lot  floors  waterfront  view  condition  grade  sqft_above  \\\n",
              "0      5650     1.0           0     0          3      7        1180   \n",
              "1      7242     2.0           0     0          3      7        2170   \n",
              "2     10000     1.0           0     0          3      6         770   \n",
              "3      5000     1.0           0     0          5      7        1050   \n",
              "4      8080     1.0           0     0          3      8        1680   \n",
              "\n",
              "   sqft_basement  yr_built  yr_renovated  zipcode      lat     long  \\\n",
              "0              0      1955             0    98178  47.5112 -122.257   \n",
              "1            400      1951          1991    98125  47.7210 -122.319   \n",
              "2              0      1933             0    98028  47.7379 -122.233   \n",
              "3            910      1965             0    98136  47.5208 -122.393   \n",
              "4              0      1987             0    98074  47.6168 -122.045   \n",
              "\n",
              "   sqft_living15  sqft_lot15  \n",
              "0           1340        5650  \n",
              "1           1690        7639  \n",
              "2           2720        8062  \n",
              "3           1360        5000  \n",
              "4           1800        7503  "
            ]
          },
          "execution_count": 2,
          "metadata": {},
          "output_type": "execute_result"
        }
      ],
      "source": [
        "house_df = pd.read_csv(\"house_data.csv.csv\")\n",
        "\n",
        "print(house_df.shape)\n",
        "house_df.head()"
      ]
    },
    {
      "cell_type": "code",
      "execution_count": null,
      "id": "31c13deb",
      "metadata": {
        "id": "31c13deb",
        "outputId": "f1129189-b315-4400-bf2b-35425b349275"
      },
      "outputs": [
        {
          "name": "stdout",
          "output_type": "stream",
          "text": [
            "<class 'pandas.core.frame.DataFrame'>\n",
            "RangeIndex: 21613 entries, 0 to 21612\n",
            "Data columns (total 21 columns):\n",
            " #   Column         Non-Null Count  Dtype  \n",
            "---  ------         --------------  -----  \n",
            " 0   id             21613 non-null  int64  \n",
            " 1   date           21613 non-null  object \n",
            " 2   price          21613 non-null  float64\n",
            " 3   bedrooms       21613 non-null  int64  \n",
            " 4   bathrooms      21613 non-null  float64\n",
            " 5   sqft_living    21613 non-null  int64  \n",
            " 6   sqft_lot       21613 non-null  int64  \n",
            " 7   floors         21613 non-null  float64\n",
            " 8   waterfront     21613 non-null  int64  \n",
            " 9   view           21613 non-null  int64  \n",
            " 10  condition      21613 non-null  int64  \n",
            " 11  grade          21613 non-null  int64  \n",
            " 12  sqft_above     21613 non-null  int64  \n",
            " 13  sqft_basement  21613 non-null  int64  \n",
            " 14  yr_built       21613 non-null  int64  \n",
            " 15  yr_renovated   21613 non-null  int64  \n",
            " 16  zipcode        21613 non-null  int64  \n",
            " 17  lat            21613 non-null  float64\n",
            " 18  long           21613 non-null  float64\n",
            " 19  sqft_living15  21613 non-null  int64  \n",
            " 20  sqft_lot15     21613 non-null  int64  \n",
            "dtypes: float64(5), int64(15), object(1)\n",
            "memory usage: 3.5+ MB\n"
          ]
        }
      ],
      "source": [
        "#check data info\n",
        "house_df.info()"
      ]
    },
    {
      "cell_type": "code",
      "execution_count": null,
      "id": "03323740",
      "metadata": {
        "id": "03323740",
        "outputId": "85a0c239-8c34-4a99-cb35-590691310ff9"
      },
      "outputs": [
        {
          "name": "stdout",
          "output_type": "stream",
          "text": [
            "0\n"
          ]
        },
        {
          "data": {
            "text/plain": [
              "0"
            ]
          },
          "execution_count": 4,
          "metadata": {},
          "output_type": "execute_result"
        }
      ],
      "source": [
        "# confirm there are no missing values\n",
        "print(house_df.isnull().sum().sum())\n",
        "\n",
        "#check duplicates\n",
        "house_df.duplicated().sum()"
      ]
    },
    {
      "cell_type": "markdown",
      "id": "da421629",
      "metadata": {
        "id": "da421629"
      },
      "source": [
        "Observations so far:\n",
        "- All except the date column are of numerical values. The date column should be of datetime data type - we'll convert this later\n",
        "- No missing values"
      ]
    },
    {
      "cell_type": "code",
      "execution_count": null,
      "id": "f27b2ba6",
      "metadata": {
        "id": "f27b2ba6"
      },
      "outputs": [],
      "source": [
        "#convert date column from object to datetime data type\n",
        "house_df['date'] = pd.to_datetime(house_df.date)"
      ]
    },
    {
      "cell_type": "markdown",
      "id": "23cf577c",
      "metadata": {
        "id": "23cf577c"
      },
      "source": [
        "## EDA"
      ]
    },
    {
      "cell_type": "code",
      "execution_count": null,
      "id": "c8e25d57",
      "metadata": {
        "id": "c8e25d57",
        "outputId": "648b51e6-9f7d-4620-f8bf-61aaf4ca2f18"
      },
      "outputs": [
        {
          "data": {
            "text/plain": [
              "price            1.000000\n",
              "sqft_living      0.702044\n",
              "grade            0.667463\n",
              "sqft_above       0.605566\n",
              "sqft_living15    0.585374\n",
              "bathrooms        0.525134\n",
              "view             0.397346\n",
              "sqft_basement    0.323837\n",
              "bedrooms         0.308338\n",
              "lat              0.306919\n",
              "waterfront       0.266331\n",
              "floors           0.256786\n",
              "yr_renovated     0.126442\n",
              "sqft_lot         0.089655\n",
              "sqft_lot15       0.082456\n",
              "yr_built         0.053982\n",
              "condition        0.036392\n",
              "long             0.021571\n",
              "zipcode         -0.053168\n",
              "Name: price, dtype: float64"
            ]
          },
          "execution_count": 6,
          "metadata": {},
          "output_type": "execute_result"
        }
      ],
      "source": [
        "# Check distribution of values of each feature\n",
        "house_df.drop(\"id\",1).corr()['price'].sort_values(ascending=False)"
      ]
    },
    {
      "cell_type": "markdown",
      "id": "98e73ef7",
      "metadata": {
        "id": "98e73ef7"
      },
      "source": [
        "## Feature Engineering\n",
        "The only feature I'll be engineering here are the date features"
      ]
    },
    {
      "cell_type": "code",
      "execution_count": null,
      "id": "f3ea3f56",
      "metadata": {
        "id": "f3ea3f56"
      },
      "outputs": [],
      "source": [
        "house_df = house_df.assign(day = house_df['date'].dt.day, \n",
        "                            month=house_df['date'].dt.month,\n",
        "                            year= house_df['date'].dt.year)"
      ]
    },
    {
      "cell_type": "markdown",
      "id": "1e2033eb",
      "metadata": {
        "id": "1e2033eb"
      },
      "source": [
        "## Modelling\n",
        "I'll train about 3-4 vanilla models here. Vanilla as in no hyperparameter tuning yet."
      ]
    },
    {
      "cell_type": "code",
      "execution_count": null,
      "id": "c041b486",
      "metadata": {
        "id": "c041b486"
      },
      "outputs": [],
      "source": [
        "from sklearn.model_selection import train_test_split\n",
        "from sklearn.preprocessing import StandardScaler, MinMaxScaler\n",
        "\n",
        "from sklearn.linear_model import LinearRegression\n",
        "from sklearn.ensemble import RandomForestRegressor\n",
        "from xgboost import XGBRegressor\n",
        "\n",
        "from sklearn.metrics import r2_score, mean_absolute_error, mean_squared_error\n"
      ]
    },
    {
      "cell_type": "code",
      "execution_count": null,
      "id": "8c7ac96b",
      "metadata": {
        "id": "8c7ac96b"
      },
      "outputs": [],
      "source": [
        "#split data into training and test set\n",
        "features = house_df.drop(['id', 'price', 'date'], axis=1)\n",
        "target = house_df.price\n",
        "\n",
        "# apply a 80/20 train-validation set split\n",
        "X_train, X_test, y_train, y_test = train_test_split(features, target, test_size=0.2, random_state=42)\n",
        "\n",
        "#normalize the data using MinMaxScaler .. we scale after splitting to prevent data leakage\n",
        "scaler = MinMaxScaler()\n",
        "X_train_scaled = scaler.fit_transform(X_train)\n",
        "X_test_scaled = scaler.transform(X_test)"
      ]
    },
    {
      "cell_type": "markdown",
      "id": "917e7855",
      "metadata": {
        "id": "917e7855"
      },
      "source": [
        "#### Modelling with Linear Regression"
      ]
    },
    {
      "cell_type": "code",
      "execution_count": null,
      "id": "6025d612",
      "metadata": {
        "id": "6025d612"
      },
      "outputs": [],
      "source": [
        "#fit the model onto the data\n",
        "linreg_model = LinearRegression(fit_intercept=True)\n",
        "linreg_model.fit(X_train,y_train)\n",
        "\n",
        "# make predictions\n",
        "predictions_lr = linreg_model.predict(X_test)"
      ]
    },
    {
      "cell_type": "code",
      "execution_count": null,
      "id": "458e2904",
      "metadata": {
        "id": "458e2904"
      },
      "outputs": [],
      "source": [
        "# # check weight each feature.. i.e how much influence did a feature have on the linear model\n",
        "# predictors = X_train.columns\n",
        "# coef = pd.Series(linear_model.coef_, predictors).sort_values()\n",
        "\n",
        "# print(coef)"
      ]
    },
    {
      "cell_type": "markdown",
      "id": "3c299aac",
      "metadata": {
        "id": "3c299aac"
      },
      "source": [
        "#### Modelling with Random Forest"
      ]
    },
    {
      "cell_type": "code",
      "execution_count": null,
      "id": "5f2657a6",
      "metadata": {
        "id": "5f2657a6"
      },
      "outputs": [],
      "source": [
        "rfr_model = RandomForestRegressor(random_state=42)\n",
        "rfr_model.fit(X_train, y_train)\n",
        "\n",
        "predictions_rf = rfr_model.predict(X_test)"
      ]
    },
    {
      "cell_type": "markdown",
      "id": "0dd74206",
      "metadata": {
        "id": "0dd74206"
      },
      "source": [
        "#### Modelling with XGBoost"
      ]
    },
    {
      "cell_type": "code",
      "execution_count": null,
      "id": "d9a423fa",
      "metadata": {
        "id": "d9a423fa"
      },
      "outputs": [],
      "source": [
        "xgbr_model = XGBRegressor()\n",
        "xgbr_model.fit(X_train, y_train)\n",
        "\n",
        "predictions_xg = xgbr_model.predict(X_test)"
      ]
    },
    {
      "cell_type": "markdown",
      "id": "7e16c2c4",
      "metadata": {
        "id": "7e16c2c4"
      },
      "source": [
        "#### Check Accuracy of Models"
      ]
    },
    {
      "cell_type": "code",
      "execution_count": null,
      "id": "6ed35a8f",
      "metadata": {
        "id": "6ed35a8f"
      },
      "outputs": [],
      "source": [
        "def calculate_accuracy(y_test, y_pred):\n",
        "    # calculate mean absolute error, root mean square, r-squared, \n",
        "    MAE = round(mean_absolute_error(y_test, y_pred), 3)\n",
        "    RMSE = round(np.sqrt(mean_squared_error(y_test, y_pred)), 3)\n",
        "    R2 = r2_score(y_test, y_pred)\n",
        "\n",
        "    #print(f\"Mean Absolute Error (MAE): {MAE} \\n\")\n",
        "    #print(f\"Root Mean Squared Error (RMSE): {RMSE} \\n\")\n",
        "    #print(f\"R-squared: {R2}\")\n",
        "    \n",
        "    return([MAE, RMSE, R2])"
      ]
    },
    {
      "cell_type": "code",
      "execution_count": null,
      "id": "3d3e0e4d",
      "metadata": {
        "id": "3d3e0e4d"
      },
      "outputs": [],
      "source": [
        "accuracy_df = pd.DataFrame(index=['MAE', 'RMSE', 'r-squared'])\n",
        "accuracy_df['Linear Regression'] = calculate_accuracy(y_test, predictions_lr)\n",
        "accuracy_df['Random Forest'] = calculate_accuracy(y_test, predictions_rf)\n",
        "accuracy_df['XGBoost'] = calculate_accuracy(y_test, predictions_xg)"
      ]
    },
    {
      "cell_type": "code",
      "execution_count": null,
      "id": "53fd7168",
      "metadata": {
        "id": "53fd7168",
        "outputId": "6685b7a8-72fd-4d2a-abe1-793ba0db1710"
      },
      "outputs": [
        {
          "data": {
            "text/html": [
              "<div>\n",
              "<style scoped>\n",
              "    .dataframe tbody tr th:only-of-type {\n",
              "        vertical-align: middle;\n",
              "    }\n",
              "\n",
              "    .dataframe tbody tr th {\n",
              "        vertical-align: top;\n",
              "    }\n",
              "\n",
              "    .dataframe thead th {\n",
              "        text-align: right;\n",
              "    }\n",
              "</style>\n",
              "<table border=\"1\" class=\"dataframe\">\n",
              "  <thead>\n",
              "    <tr style=\"text-align: right;\">\n",
              "      <th></th>\n",
              "      <th>Linear Regression</th>\n",
              "      <th>Random Forest</th>\n",
              "      <th>XGBoost</th>\n",
              "    </tr>\n",
              "  </thead>\n",
              "  <tbody>\n",
              "    <tr>\n",
              "      <th>MAE</th>\n",
              "      <td>127046.861000</td>\n",
              "      <td>73337.644000</td>\n",
              "      <td>70738.553000</td>\n",
              "    </tr>\n",
              "    <tr>\n",
              "      <th>RMSE</th>\n",
              "      <td>212139.636000</td>\n",
              "      <td>151064.501000</td>\n",
              "      <td>147245.167000</td>\n",
              "    </tr>\n",
              "    <tr>\n",
              "      <th>r-squared</th>\n",
              "      <td>0.702664</td>\n",
              "      <td>0.849225</td>\n",
              "      <td>0.856753</td>\n",
              "    </tr>\n",
              "  </tbody>\n",
              "</table>\n",
              "</div>"
            ],
            "text/plain": [
              "           Linear Regression  Random Forest        XGBoost\n",
              "MAE            127046.861000   73337.644000   70738.553000\n",
              "RMSE           212139.636000  151064.501000  147245.167000\n",
              "r-squared           0.702664       0.849225       0.856753"
            ]
          },
          "execution_count": 16,
          "metadata": {},
          "output_type": "execute_result"
        }
      ],
      "source": [
        "accuracy_df"
      ]
    },
    {
      "cell_type": "markdown",
      "id": "0df26987",
      "metadata": {
        "id": "0df26987"
      },
      "source": [
        "    Random Forest slightly edges out the XGBoost model"
      ]
    },
    {
      "cell_type": "markdown",
      "id": "5282014d",
      "metadata": {
        "id": "5282014d"
      },
      "source": [
        "### Feature Importance\n",
        "Let's check the most impactful drivers of houses prices"
      ]
    },
    {
      "cell_type": "code",
      "execution_count": null,
      "id": "0dbe3efe",
      "metadata": {
        "id": "0dbe3efe",
        "outputId": "128de768-ae1c-4dc9-a335-d89b5ea72466"
      },
      "outputs": [
        {
          "name": "stdout",
          "output_type": "stream",
          "text": [
            "grade            0.313839\n",
            "sqft_living      0.272860\n",
            "lat              0.151332\n",
            "long             0.062039\n",
            "yr_built         0.032161\n",
            "waterfront       0.031429\n",
            "sqft_living15    0.029854\n",
            "sqft_above       0.019093\n",
            "zipcode          0.014207\n",
            "sqft_lot         0.012766\n",
            "sqft_lot15       0.011436\n",
            "bathrooms        0.011327\n",
            "view             0.010017\n",
            "day              0.006400\n",
            "sqft_basement    0.005570\n",
            "month            0.005007\n",
            "bedrooms         0.002897\n",
            "condition        0.002735\n",
            "yr_renovated     0.002183\n",
            "floors           0.001703\n",
            "year             0.001144\n",
            "dtype: float64\n"
          ]
        }
      ],
      "source": [
        "# check weight each feature.. i.e how much influence did a feature have on the linear model\n",
        "predictors = X_train.columns\n",
        "coef = pd.Series(rfr_model.feature_importances_, predictors).sort_values(ascending=False)\n",
        "\n",
        "print(coef)"
      ]
    },
    {
      "cell_type": "code",
      "execution_count": null,
      "id": "f845a497",
      "metadata": {
        "id": "f845a497"
      },
      "outputs": [],
      "source": [
        "# list(coef[:4].index)"
      ]
    },
    {
      "cell_type": "markdown",
      "id": "bbe431f5",
      "metadata": {
        "id": "bbe431f5"
      },
      "source": [
        "## End to End Pipeline\n",
        "Let's finalize the pipeline by adding our model to it. \n",
        "\n",
        "Then we save our model, load it and use it to predict our test data."
      ]
    },
    {
      "cell_type": "code",
      "execution_count": null,
      "id": "c4256d49",
      "metadata": {
        "id": "c4256d49"
      },
      "outputs": [],
      "source": [
        "import pickle\n",
        "from sklearn.pipeline import Pipeline"
      ]
    },
    {
      "cell_type": "code",
      "execution_count": null,
      "id": "bfec0507",
      "metadata": {
        "id": "bfec0507",
        "outputId": "9e78d941-1cc7-4ec1-9cee-9f8502b71841"
      },
      "outputs": [
        {
          "data": {
            "text/plain": [
              "array([ 414595.62,  863093.56, 1063882.2 , ...,  308299.75,  575448.6 ,\n",
              "        342928.84], dtype=float32)"
            ]
          },
          "execution_count": 20,
          "metadata": {},
          "output_type": "execute_result"
        }
      ],
      "source": [
        "end_2_end_pipeline = Pipeline([\n",
        "    ('preparation', MinMaxScaler()),\n",
        "    ('classifier', XGBRegressor(random_state=42))\n",
        "])\n",
        "\n",
        "# fit the training set on the pipeline. so we transformed and train our dataset on the go\n",
        "end_2_end_pipeline.fit(X_train, y_train)\n",
        "\n",
        "# save the model\n",
        "filename= 'house_price_model.pkl'\n",
        "with open(filename, 'wb') as file:\n",
        "    pickle.dump(end_2_end_pipeline, file)\n",
        "    \n",
        "# ====\n",
        "# load the saved model\n",
        "with open(filename, 'rb') as f:\n",
        "    load_model = pickle.load(f)\n",
        "    \n",
        "    \n",
        "# run the model on the test set\n",
        "y_pred = load_model.predict(X_test)\n",
        "y_pred"
      ]
    },
    {
      "cell_type": "markdown",
      "id": "db033ef7",
      "metadata": {
        "id": "db033ef7"
      },
      "source": [
        "## REST API"
      ]
    },
    {
      "cell_type": "code",
      "execution_count": null,
      "id": "f4c28afb",
      "metadata": {
        "id": "f4c28afb"
      },
      "outputs": [],
      "source": [
        "import requests"
      ]
    },
    {
      "cell_type": "code",
      "execution_count": null,
      "id": "72a070d3",
      "metadata": {
        "id": "72a070d3",
        "outputId": "8a01a1f1-d13d-4a4c-e4f8-28b98c3f073f"
      },
      "outputs": [
        {
          "name": "stdout",
          "output_type": "stream",
          "text": [
            "Everything went well!\n",
            "{'prediction': [100339.59375]}\n"
          ]
        }
      ],
      "source": [
        "#TESTING THE ENDPOINT\n",
        "# base_url = \"http://127.0.0.1\"\n",
        "base_url = \"https://predict-house-price-zummit.herokuapp.com\"\n",
        "endpoint = \"/predict\"\n",
        "full_url = base_url + endpoint\n",
        "\n",
        "json_ = {\n",
        "  \"date\": \"2022-07-21\",\n",
        "  \"bedrooms\": 0,\n",
        "  \"bathrooms\": 0,\n",
        "  \"sqft_living\": 0,\n",
        "  \"sqft_lot\": 0,\n",
        "  \"floors\": 0,\n",
        "  \"waterfront\": 0,\n",
        "  \"view\": 0,\n",
        "  \"condition\": 0,\n",
        "  \"grade\": 0,\n",
        "  \"sqft_above\": 0,\n",
        "  \"sqft_basement\": 0,\n",
        "  \"yr_built\": 0,\n",
        "  \"yr_renovated\": 0,\n",
        "  \"zipcode\": 0,\n",
        "  \"lat\": 0,\n",
        "  \"long\": 0,\n",
        "  \"sqft_living15\": 0,\n",
        "  \"sqft_lot15\": 0\n",
        "}\n",
        "\n",
        "\n",
        "response = requests.post(full_url, json=json_)   #post data to the endpoint\n",
        "status_code = response.status_code\n",
        "if True:\n",
        "    msg = \"Everything went well!\" if status_code == 200 else \"There was an error when handling the request.\"\n",
        "    print(msg)\n",
        "\n",
        "print(response.json())"
      ]
    }
  ],
  "metadata": {
    "kernelspec": {
      "display_name": "Python [conda env:root] *",
      "language": "python",
      "name": "conda-root-py"
    },
    "language_info": {
      "codemirror_mode": {
        "name": "ipython",
        "version": 3
      },
      "file_extension": ".py",
      "mimetype": "text/x-python",
      "name": "python",
      "nbconvert_exporter": "python",
      "pygments_lexer": "ipython3",
      "version": "3.8.12"
    },
    "colab": {
      "name": "Forecasting the Cost of Homes.ipynb",
      "provenance": [],
      "include_colab_link": true
    }
  },
  "nbformat": 4,
  "nbformat_minor": 5
}